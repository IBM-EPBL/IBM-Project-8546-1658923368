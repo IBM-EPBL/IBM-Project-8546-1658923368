{
  "nbformat": 4,
  "nbformat_minor": 0,
  "metadata": {
    "colab": {
      "provenance": [],
      "include_colab_link": true
    },
    "kernelspec": {
      "name": "python3",
      "display_name": "Python 3"
    },
    "language_info": {
      "name": "python"
    }
  },
  "cells": [
    {
      "cell_type": "markdown",
      "metadata": {
        "id": "view-in-github",
        "colab_type": "text"
      },
      "source": [
        "<a href=\"https://colab.research.google.com/github/IBM-EPBL/IBM-Project-8546-1658923368/blob/main/Assignment/Assignment_2_Sukirdhapriya_T.ipynb\" target=\"_parent\"><img src=\"https://colab.research.google.com/assets/colab-badge.svg\" alt=\"Open In Colab\"/></a>"
      ]
    },
    {
      "cell_type": "markdown",
      "source": [
        "1.Load Dataset"
      ],
      "metadata": {
        "id": "D7pxuaaaRlN_"
      }
    },
    {
      "cell_type": "code",
      "source": [
        "import pandas as pd\n",
        "df = pd.read_csv('/content/drive/MyDrive/Dataset/Churn_Modelling.csv')"
      ],
      "metadata": {
        "id": "8-RjIR8FR5fG"
      },
      "execution_count": null,
      "outputs": []
    },
    {
      "cell_type": "code",
      "source": [
        "df.info()"
      ],
      "metadata": {
        "colab": {
          "base_uri": "https://localhost:8080/"
        },
        "id": "bqnwK0TaR_k1",
        "outputId": "7d8428e4-f1e9-42e9-e062-e58b3a50011b"
      },
      "execution_count": null,
      "outputs": [
        {
          "output_type": "stream",
          "name": "stdout",
          "text": [
            "<class 'pandas.core.frame.DataFrame'>\n",
            "RangeIndex: 10000 entries, 0 to 9999\n",
            "Data columns (total 14 columns):\n",
            " #   Column           Non-Null Count  Dtype  \n",
            "---  ------           --------------  -----  \n",
            " 0   RowNumber        10000 non-null  int64  \n",
            " 1   CustomerId       10000 non-null  int64  \n",
            " 2   Surname          10000 non-null  object \n",
            " 3   CreditScore      10000 non-null  int64  \n",
            " 4   Geography        10000 non-null  object \n",
            " 5   Gender           10000 non-null  object \n",
            " 6   Age              10000 non-null  int64  \n",
            " 7   Tenure           10000 non-null  int64  \n",
            " 8   Balance          10000 non-null  float64\n",
            " 9   NumOfProducts    10000 non-null  int64  \n",
            " 10  HasCrCard        10000 non-null  int64  \n",
            " 11  IsActiveMember   10000 non-null  int64  \n",
            " 12  EstimatedSalary  10000 non-null  float64\n",
            " 13  Exited           10000 non-null  int64  \n",
            "dtypes: float64(2), int64(9), object(3)\n",
            "memory usage: 1.1+ MB\n"
          ]
        }
      ]
    },
    {
      "cell_type": "markdown",
      "source": [
        "2.Visualizations\n",
        "\n",
        "A.Univariate Analysis"
      ],
      "metadata": {
        "id": "5b2KAHrlSRFi"
      }
    },
    {
      "cell_type": "code",
      "source": [
        "import matplotlib.pyplot as plt\n",
        "\n",
        "df[df['CreditScore'] < 400]['CreditScore'].plot.hist()"
      ],
      "metadata": {
        "colab": {
          "base_uri": "https://localhost:8080/",
          "height": 282
        },
        "id": "gKrHKXCxSR9Y",
        "outputId": "ec973524-98b6-4554-fc09-02cb5d1fdb81"
      },
      "execution_count": null,
      "outputs": [
        {
          "output_type": "execute_result",
          "data": {
            "text/plain": [
              "<matplotlib.axes._subplots.AxesSubplot at 0x7fd95ec76390>"
            ]
          },
          "metadata": {},
          "execution_count": 3
        },
        {
          "output_type": "display_data",
          "data": {
            "text/plain": [
              "<Figure size 432x288 with 1 Axes>"
            ],
            "image/png": "[encoded data removed]"
          },
          "metadata": {
            "needs_background": "light"
          }
        }
      ]
    },
    {
      "cell_type": "markdown",
      "source": [
        "B.Bi - Variate Analysis"
      ],
      "metadata": {
        "id": "-S-YwTjFS3Po"
      }
    },
    {
      "cell_type": "code",
      "source": [
        "df[df['Tenure'] < 10].sample(100).plot.scatter(x='Age', y='Tenure')"
      ],
      "metadata": {
        "id": "vj9y9_s_Sza7",
        "colab": {
          "base_uri": "https://localhost:8080/",
          "height": 296
        },
        "outputId": "c6659ffa-fa74-41c1-faa4-6dd249a1d40d"
      },
      "execution_count": null,
      "outputs": [
        {
          "output_type": "execute_result",
          "data": {
            "text/plain": [
              "<matplotlib.axes._subplots.AxesSubplot at 0x7fd95ebc50d0>"
            ]
          },
          "metadata": {},
          "execution_count": 4
        },
        {
          "output_type": "display_data",
          "data": {
            "text/plain": [
              "<Figure size 432x288 with 1 Axes>"
            ],
            "image/png": "[encoded data removed]"
          },
          "metadata": {
            "needs_background": "light"
          }
        }
      ]
    },
    {
      "cell_type": "markdown",
      "source": [
        "C.Multi - Variate Analysis"
      ],
      "metadata": {
        "id": "zt-3y47yTAT0"
      }
    },
    {
      "cell_type": "code",
      "source": [
        "ax = df[[\"Age\",\"CreditScore\",\"Tenure\",\"EstimatedSalary\",\"Balance\"]].plot(figsize=(20,15))\n",
        "ax.legend(loc='center left', bbox_to_anchor=(1, 0.5))"
      ],
      "metadata": {
        "id": "ev6MK7e9TEH1",
        "colab": {
          "base_uri": "https://localhost:8080/",
          "height": 593
        },
        "outputId": "685e4fc2-4b14-4181-8f95-a86db9fde6b9"
      },
      "execution_count": null,
      "outputs": [
        {
          "output_type": "execute_result",
          "data": {
            "text/plain": [
              "<matplotlib.legend.Legend at 0x7fd95e6a4790>"
            ]
          },
          "metadata": {},
          "execution_count": 5
        },
        {
          "output_type": "display_data",
          "data": {
            "text/plain": [
              "<Figure size 1440x1080 with 1 Axes>"
            ],
            "image/png": "[encoded data removed]"
          },
          "metadata": {
            "needs_background": "light"
          }
        }
      ]
    },
    {
      "cell_type": "markdown",
      "source": [
        "3.Descriptive statistics on the dataset"
      ],
      "metadata": {
        "id": "PTOgVCygTILF"
      }
    },
    {
      "cell_type": "code",
      "source": [
        "import numpy as np\n",
        "print(df['Tenure'].mean())"
      ],
      "metadata": {
        "id": "OQzeaS9vTM4g",
        "colab": {
          "base_uri": "https://localhost:8080/"
        },
        "outputId": "aeeb1c9c-7c11-42d5-8885-02f6b69c5226"
      },
      "execution_count": null,
      "outputs": [
        {
          "output_type": "stream",
          "name": "stdout",
          "text": [
            "5.0128\n"
          ]
        }
      ]
    },
    {
      "cell_type": "code",
      "source": [
        "import numpy as np\n",
        "print(df['Tenure'].sum())"
      ],
      "metadata": {
        "id": "UyxjJMakTUbP",
        "colab": {
          "base_uri": "https://localhost:8080/"
        },
        "outputId": "9ac3ac3a-8b76-4bcd-a309-00f14872797e"
      },
      "execution_count": null,
      "outputs": [
        {
          "output_type": "stream",
          "name": "stdout",
          "text": [
            "50128\n"
          ]
        }
      ]
    },
    {
      "cell_type": "markdown",
      "source": [
        "4.Handle the Missing values"
      ],
      "metadata": {
        "id": "pj8Q20e8TYDW"
      }
    },
    {
      "cell_type": "code",
      "source": [
        "missing_values_count = df.isnull().sum()\n",
        "missing_values_count[0:10]"
      ],
      "metadata": {
        "id": "dxyPU9E4TboS",
        "colab": {
          "base_uri": "https://localhost:8080/"
        },
        "outputId": "dc7545f4-c29a-496b-c3cb-cdfef5a3ca13"
      },
      "execution_count": null,
      "outputs": [
        {
          "output_type": "execute_result",
          "data": {
            "text/plain": [
              "RowNumber        0\n",
              "CustomerId       0\n",
              "Surname          0\n",
              "CreditScore      0\n",
              "Geography        0\n",
              "Gender           0\n",
              "Age              0\n",
              "Tenure           0\n",
              "Balance          0\n",
              "NumOfProducts    0\n",
              "dtype: int64"
            ]
          },
          "metadata": {},
          "execution_count": 8
        }
      ]
    },
    {
      "cell_type": "markdown",
      "source": [
        "5.Find the outliers and replace the outliers"
      ],
      "metadata": {
        "id": "Ydq_C3vlTey4"
      }
    },
    {
      "cell_type": "code",
      "source": [
        "median = float(df['Tenure'].median())\n",
        "df[\"Tenure\"] = np.where(df[\"Tenure\"] > median, median, df['Tenure'])\n",
        "print(median)"
      ],
      "metadata": {
        "id": "kndRQe3OTfbJ",
        "colab": {
          "base_uri": "https://localhost:8080/"
        },
        "outputId": "fc121c9a-e981-4952-89d8-f2fa8b1657c0"
      },
      "execution_count": null,
      "outputs": [
        {
          "output_type": "stream",
          "name": "stdout",
          "text": [
            "5.0\n"
          ]
        }
      ]
    },
    {
      "cell_type": "markdown",
      "source": [
        "6.Categorical columns"
      ],
      "metadata": {
        "id": "r4_Sr-LhThq_"
      }
    },
    {
      "cell_type": "code",
      "source": [
        "df.head()"
      ],
      "metadata": {
        "id": "O5NkONE1TkG3",
        "colab": {
          "base_uri": "https://localhost:8080/",
          "height": 270
        },
        "outputId": "1473c75b-357d-4729-cbfe-a50f86b60628"
      },
      "execution_count": null,
      "outputs": [
        {
          "output_type": "execute_result",
          "data": {
            "text/plain": [
              "   RowNumber  CustomerId   Surname  CreditScore Geography  Gender  Age  \\\n",
              "0          1    15634602  Hargrave          619    France  Female   42   \n",
              "1          2    15647311      Hill          608     Spain  Female   41   \n",
              "2          3    15619304      Onio          502    France  Female   42   \n",
              "3          4    15701354      Boni          699    France  Female   39   \n",
              "4          5    15737888  Mitchell          850     Spain  Female   43   \n",
              "\n",
              "   Tenure    Balance  NumOfProducts  HasCrCard  IsActiveMember  \\\n",
              "0     2.0       0.00              1          1               1   \n",
              "1     1.0   83807.86              1          0               1   \n",
              "2     5.0  159660.80              3          1               0   \n",
              "3     1.0       0.00              2          0               0   \n",
              "4     2.0  125510.82              1          1               1   \n",
              "\n",
              "   EstimatedSalary  Exited  \n",
              "0        101348.88       1  \n",
              "1        112542.58       0  \n",
              "2        113931.57       1  \n",
              "3         93826.63       0  \n",
              "4         79084.10       0  "
            ],
            "text/html": [
              "\n",
              "  <div id=\"df-c90472b2-461f-4658-b8b6-3ac8800fc78f\">\n",
              "    <div class=\"colab-df-container\">\n",
              "      <div>\n",
              "<style scoped>\n",
              "    .dataframe tbody tr th:only-of-type {\n",
              "        vertical-align: middle;\n",
              "    }\n",
              "\n",
              "    .dataframe tbody tr th {\n",
              "        vertical-align: top;\n",
              "    }\n",
              "\n",
              "    .dataframe thead th {\n",
              "        text-align: right;\n",
              "    }\n",
              "</style>\n",
              "<table border=\"1\" class=\"dataframe\">\n",
              "  <thead>\n",
              "    <tr style=\"text-align: right;\">\n",
              "      <th></th>\n",
              "      <th>RowNumber</th>\n",
              "      <th>CustomerId</th>\n",
              "      <th>Surname</th>\n",
              "      <th>CreditScore</th>\n",
              "      <th>Geography</th>\n",
              "      <th>Gender</th>\n",
              "      <th>Age</th>\n",
              "      <th>Tenure</th>\n",
              "      <th>Balance</th>\n",
              "      <th>NumOfProducts</th>\n",
              "      <th>HasCrCard</th>\n",
              "      <th>IsActiveMember</th>\n",
              "      <th>EstimatedSalary</th>\n",
              "      <th>Exited</th>\n",
              "    </tr>\n",
              "  </thead>\n",
              "  <tbody>\n",
              "    <tr>\n",
              "      <th>0</th>\n",
              "      <td>1</td>\n",
              "      <td>15634602</td>\n",
              "      <td>Hargrave</td>\n",
              "      <td>619</td>\n",
              "      <td>France</td>\n",
              "      <td>Female</td>\n",
              "      <td>42</td>\n",
              "      <td>2.0</td>\n",
              "      <td>0.00</td>\n",
              "      <td>1</td>\n",
              "      <td>1</td>\n",
              "      <td>1</td>\n",
              "      <td>101348.88</td>\n",
              "      <td>1</td>\n",
              "    </tr>\n",
              "    <tr>\n",
              "      <th>1</th>\n",
              "      <td>2</td>\n",
              "      <td>15647311</td>\n",
              "      <td>Hill</td>\n",
              "      <td>608</td>\n",
              "      <td>Spain</td>\n",
              "      <td>Female</td>\n",
              "      <td>41</td>\n",
              "      <td>1.0</td>\n",
              "      <td>83807.86</td>\n",
              "      <td>1</td>\n",
              "      <td>0</td>\n",
              "      <td>1</td>\n",
              "      <td>112542.58</td>\n",
              "      <td>0</td>\n",
              "    </tr>\n",
              "    <tr>\n",
              "      <th>2</th>\n",
              "      <td>3</td>\n",
              "      <td>15619304</td>\n",
              "      <td>Onio</td>\n",
              "      <td>502</td>\n",
              "      <td>France</td>\n",
              "      <td>Female</td>\n",
              "      <td>42</td>\n",
              "      <td>5.0</td>\n",
              "      <td>159660.80</td>\n",
              "      <td>3</td>\n",
              "      <td>1</td>\n",
              "      <td>0</td>\n",
              "      <td>113931.57</td>\n",
              "      <td>1</td>\n",
              "    </tr>\n",
              "    <tr>\n",
              "      <th>3</th>\n",
              "      <td>4</td>\n",
              "      <td>15701354</td>\n",
              "      <td>Boni</td>\n",
              "      <td>699</td>\n",
              "      <td>France</td>\n",
              "      <td>Female</td>\n",
              "      <td>39</td>\n",
              "      <td>1.0</td>\n",
              "      <td>0.00</td>\n",
              "      <td>2</td>\n",
              "      <td>0</td>\n",
              "      <td>0</td>\n",
              "      <td>93826.63</td>\n",
              "      <td>0</td>\n",
              "    </tr>\n",
              "    <tr>\n",
              "      <th>4</th>\n",
              "      <td>5</td>\n",
              "      <td>15737888</td>\n",
              "      <td>Mitchell</td>\n",
              "      <td>850</td>\n",
              "      <td>Spain</td>\n",
              "      <td>Female</td>\n",
              "      <td>43</td>\n",
              "      <td>2.0</td>\n",
              "      <td>125510.82</td>\n",
              "      <td>1</td>\n",
              "      <td>1</td>\n",
              "      <td>1</td>\n",
              "      <td>79084.10</td>\n",
              "      <td>0</td>\n",
              "    </tr>\n",
              "  </tbody>\n",
              "</table>\n",
              "</div>\n",
              "      <button class=\"colab-df-convert\" onclick=\"convertToInteractive('df-c90472b2-461f-4658-b8b6-3ac8800fc78f')\"\n",
              "              title=\"Convert this dataframe to an interactive table.\"\n",
              "              style=\"display:none;\">\n",
              "        \n",
              "  <svg xmlns=\"http://www.w3.org/2000/svg\" height=\"24px\"viewBox=\"0 0 24 24\"\n",
              "       width=\"24px\">\n",
              "    <path d=\"M0 0h24v24H0V0z\" fill=\"none\"/>\n",
              "    <path d=\"M18.56 5.44l.94 2.06.94-2.06 2.06-.94-2.06-.94-.94-2.06-.94 2.06-2.06.94zm-11 1L8.5 8.5l.94-2.06 2.06-.94-2.06-.94L8.5 2.5l-.94 2.06-2.06.94zm10 10l.94 2.06.94-2.06 2.06-.94-2.06-.94-.94-2.06-.94 2.06-2.06.94z\"/><path d=\"M17.41 7.96l-1.37-1.37c-.4-.4-.92-.59-1.43-.59-.52 0-1.04.2-1.43.59L10.3 9.45l-7.72 7.72c-.78.78-.78 2.05 0 2.83L4 21.41c.39.39.9.59 1.41.59.51 0 1.02-.2 1.41-.59l7.78-7.78 2.81-2.81c.8-.78.8-2.07 0-2.86zM5.41 20L4 18.59l7.72-7.72 1.47 1.35L5.41 20z\"/>\n",
              "  </svg>\n",
              "      </button>\n",
              "      \n",
              "  <style>\n",
              "    .colab-df-container {\n",
              "      display:flex;\n",
              "      flex-wrap:wrap;\n",
              "      gap: 12px;\n",
              "    }\n",
              "\n",
              "    .colab-df-convert {\n",
              "      background-color: #E8F0FE;\n",
              "      border: none;\n",
              "      border-radius: 50%;\n",
              "      cursor: pointer;\n",
              "      display: none;\n",
              "      fill: #1967D2;\n",
              "      height: 32px;\n",
              "      padding: 0 0 0 0;\n",
              "      width: 32px;\n",
              "    }\n",
              "\n",
              "    .colab-df-convert:hover {\n",
              "      background-color: #E2EBFA;\n",
              "      box-shadow: 0px 1px 2px rgba(60, 64, 67, 0.3), 0px 1px 3px 1px rgba(60, 64, 67, 0.15);\n",
              "      fill: #174EA6;\n",
              "    }\n",
              "\n",
              "    [theme=dark] .colab-df-convert {\n",
              "      background-color: #3B4455;\n",
              "      fill: #D2E3FC;\n",
              "    }\n",
              "\n",
              "    [theme=dark] .colab-df-convert:hover {\n",
              "      background-color: #434B5C;\n",
              "      box-shadow: 0px 1px 3px 1px rgba(0, 0, 0, 0.15);\n",
              "      filter: drop-shadow(0px 1px 2px rgba(0, 0, 0, 0.3));\n",
              "      fill: #FFFFFF;\n",
              "    }\n",
              "  </style>\n",
              "\n",
              "      <script>\n",
              "        const buttonEl =\n",
              "          document.querySelector('#df-c90472b2-461f-4658-b8b6-3ac8800fc78f button.colab-df-convert');\n",
              "        buttonEl.style.display =\n",
              "          google.colab.kernel.accessAllowed ? 'block' : 'none';\n",
              "\n",
              "        async function convertToInteractive(key) {\n",
              "          const element = document.querySelector('#df-c90472b2-461f-4658-b8b6-3ac8800fc78f');\n",
              "          const dataTable =\n",
              "            await google.colab.kernel.invokeFunction('convertToInteractive',\n",
              "                                                     [key], {});\n",
              "          if (!dataTable) return;\n",
              "\n",
              "          const docLinkHtml = 'Like what you see? Visit the ' +\n",
              "            '<a target=\"_blank\" href=https://colab.research.google.com/notebooks/data_table.ipynb>data table notebook</a>'\n",
              "            + ' to learn more about interactive tables.';\n",
              "          element.innerHTML = '';\n",
              "          dataTable['output_type'] = 'display_data';\n",
              "          await google.colab.output.renderOutput(dataTable, element);\n",
              "          const docLink = document.createElement('div');\n",
              "          docLink.innerHTML = docLinkHtml;\n",
              "          element.appendChild(docLink);\n",
              "        }\n",
              "      </script>\n",
              "    </div>\n",
              "  </div>\n",
              "  "
            ]
          },
          "metadata": {},
          "execution_count": 10
        }
      ]
    },
    {
      "cell_type": "code",
      "source": [
        "df.tail()"
      ],
      "metadata": {
        "id": "GviIaKlLTnTf",
        "colab": {
          "base_uri": "https://localhost:8080/",
          "height": 270
        },
        "outputId": "86a09c7b-87f4-443b-f235-97299ae915d6"
      },
      "execution_count": null,
      "outputs": [
        {
          "output_type": "execute_result",
          "data": {
            "text/plain": [
              "      RowNumber  CustomerId    Surname  CreditScore Geography  Gender  Age  \\\n",
              "9995       9996    15606229   Obijiaku          771    France    Male   39   \n",
              "9996       9997    15569892  Johnstone          516    France    Male   35   \n",
              "9997       9998    15584532        Liu          709    France  Female   36   \n",
              "9998       9999    15682355  Sabbatini          772   Germany    Male   42   \n",
              "9999      10000    15628319     Walker          792    France  Female   28   \n",
              "\n",
              "      Tenure    Balance  NumOfProducts  HasCrCard  IsActiveMember  \\\n",
              "9995     5.0       0.00              2          1               0   \n",
              "9996     5.0   57369.61              1          1               1   \n",
              "9997     5.0       0.00              1          0               1   \n",
              "9998     3.0   75075.31              2          1               0   \n",
              "9999     4.0  130142.79              1          1               0   \n",
              "\n",
              "      EstimatedSalary  Exited  \n",
              "9995         96270.64       0  \n",
              "9996        101699.77       0  \n",
              "9997         42085.58       1  \n",
              "9998         92888.52       1  \n",
              "9999         38190.78       0  "
            ],
            "text/html": [
              "\n",
              "  <div id=\"df-3605c9ac-4930-47c6-ae18-bb4ad072fb3a\">\n",
              "    <div class=\"colab-df-container\">\n",
              "      <div>\n",
              "<style scoped>\n",
              "    .dataframe tbody tr th:only-of-type {\n",
              "        vertical-align: middle;\n",
              "    }\n",
              "\n",
              "    .dataframe tbody tr th {\n",
              "        vertical-align: top;\n",
              "    }\n",
              "\n",
              "    .dataframe thead th {\n",
              "        text-align: right;\n",
              "    }\n",
              "</style>\n",
              "<table border=\"1\" class=\"dataframe\">\n",
              "  <thead>\n",
              "    <tr style=\"text-align: right;\">\n",
              "      <th></th>\n",
              "      <th>RowNumber</th>\n",
              "      <th>CustomerId</th>\n",
              "      <th>Surname</th>\n",
              "      <th>CreditScore</th>\n",
              "      <th>Geography</th>\n",
              "      <th>Gender</th>\n",
              "      <th>Age</th>\n",
              "      <th>Tenure</th>\n",
              "      <th>Balance</th>\n",
              "      <th>NumOfProducts</th>\n",
              "      <th>HasCrCard</th>\n",
              "      <th>IsActiveMember</th>\n",
              "      <th>EstimatedSalary</th>\n",
              "      <th>Exited</th>\n",
              "    </tr>\n",
              "  </thead>\n",
              "  <tbody>\n",
              "    <tr>\n",
              "      <th>9995</th>\n",
              "      <td>9996</td>\n",
              "      <td>15606229</td>\n",
              "      <td>Obijiaku</td>\n",
              "      <td>771</td>\n",
              "      <td>France</td>\n",
              "      <td>Male</td>\n",
              "      <td>39</td>\n",
              "      <td>5.0</td>\n",
              "      <td>0.00</td>\n",
              "      <td>2</td>\n",
              "      <td>1</td>\n",
              "      <td>0</td>\n",
              "      <td>96270.64</td>\n",
              "      <td>0</td>\n",
              "    </tr>\n",
              "    <tr>\n",
              "      <th>9996</th>\n",
              "      <td>9997</td>\n",
              "      <td>15569892</td>\n",
              "      <td>Johnstone</td>\n",
              "      <td>516</td>\n",
              "      <td>France</td>\n",
              "      <td>Male</td>\n",
              "      <td>35</td>\n",
              "      <td>5.0</td>\n",
              "      <td>57369.61</td>\n",
              "      <td>1</td>\n",
              "      <td>1</td>\n",
              "      <td>1</td>\n",
              "      <td>101699.77</td>\n",
              "      <td>0</td>\n",
              "    </tr>\n",
              "    <tr>\n",
              "      <th>9997</th>\n",
              "      <td>9998</td>\n",
              "      <td>15584532</td>\n",
              "      <td>Liu</td>\n",
              "      <td>709</td>\n",
              "      <td>France</td>\n",
              "      <td>Female</td>\n",
              "      <td>36</td>\n",
              "      <td>5.0</td>\n",
              "      <td>0.00</td>\n",
              "      <td>1</td>\n",
              "      <td>0</td>\n",
              "      <td>1</td>\n",
              "      <td>42085.58</td>\n",
              "      <td>1</td>\n",
              "    </tr>\n",
              "    <tr>\n",
              "      <th>9998</th>\n",
              "      <td>9999</td>\n",
              "      <td>15682355</td>\n",
              "      <td>Sabbatini</td>\n",
              "      <td>772</td>\n",
              "      <td>Germany</td>\n",
              "      <td>Male</td>\n",
              "      <td>42</td>\n",
              "      <td>3.0</td>\n",
              "      <td>75075.31</td>\n",
              "      <td>2</td>\n",
              "      <td>1</td>\n",
              "      <td>0</td>\n",
              "      <td>92888.52</td>\n",
              "      <td>1</td>\n",
              "    </tr>\n",
              "    <tr>\n",
              "      <th>9999</th>\n",
              "      <td>10000</td>\n",
              "      <td>15628319</td>\n",
              "      <td>Walker</td>\n",
              "      <td>792</td>\n",
              "      <td>France</td>\n",
              "      <td>Female</td>\n",
              "      <td>28</td>\n",
              "      <td>4.0</td>\n",
              "      <td>130142.79</td>\n",
              "      <td>1</td>\n",
              "      <td>1</td>\n",
              "      <td>0</td>\n",
              "      <td>38190.78</td>\n",
              "      <td>0</td>\n",
              "    </tr>\n",
              "  </tbody>\n",
              "</table>\n",
              "</div>\n",
              "      <button class=\"colab-df-convert\" onclick=\"convertToInteractive('df-3605c9ac-4930-47c6-ae18-bb4ad072fb3a')\"\n",
              "              title=\"Convert this dataframe to an interactive table.\"\n",
              "              style=\"display:none;\">\n",
              "        \n",
              "  <svg xmlns=\"http://www.w3.org/2000/svg\" height=\"24px\"viewBox=\"0 0 24 24\"\n",
              "       width=\"24px\">\n",
              "    <path d=\"M0 0h24v24H0V0z\" fill=\"none\"/>\n",
              "    <path d=\"M18.56 5.44l.94 2.06.94-2.06 2.06-.94-2.06-.94-.94-2.06-.94 2.06-2.06.94zm-11 1L8.5 8.5l.94-2.06 2.06-.94-2.06-.94L8.5 2.5l-.94 2.06-2.06.94zm10 10l.94 2.06.94-2.06 2.06-.94-2.06-.94-.94-2.06-.94 2.06-2.06.94z\"/><path d=\"M17.41 7.96l-1.37-1.37c-.4-.4-.92-.59-1.43-.59-.52 0-1.04.2-1.43.59L10.3 9.45l-7.72 7.72c-.78.78-.78 2.05 0 2.83L4 21.41c.39.39.9.59 1.41.59.51 0 1.02-.2 1.41-.59l7.78-7.78 2.81-2.81c.8-.78.8-2.07 0-2.86zM5.41 20L4 18.59l7.72-7.72 1.47 1.35L5.41 20z\"/>\n",
              "  </svg>\n",
              "      </button>\n",
              "      \n",
              "  <style>\n",
              "    .colab-df-container {\n",
              "      display:flex;\n",
              "      flex-wrap:wrap;\n",
              "      gap: 12px;\n",
              "    }\n",
              "\n",
              "    .colab-df-convert {\n",
              "      background-color: #E8F0FE;\n",
              "      border: none;\n",
              "      border-radius: 50%;\n",
              "      cursor: pointer;\n",
              "      display: none;\n",
              "      fill: #1967D2;\n",
              "      height: 32px;\n",
              "      padding: 0 0 0 0;\n",
              "      width: 32px;\n",
              "    }\n",
              "\n",
              "    .colab-df-convert:hover {\n",
              "      background-color: #E2EBFA;\n",
              "      box-shadow: 0px 1px 2px rgba(60, 64, 67, 0.3), 0px 1px 3px 1px rgba(60, 64, 67, 0.15);\n",
              "      fill: #174EA6;\n",
              "    }\n",
              "\n",
              "    [theme=dark] .colab-df-convert {\n",
              "      background-color: #3B4455;\n",
              "      fill: #D2E3FC;\n",
              "    }\n",
              "\n",
              "    [theme=dark] .colab-df-convert:hover {\n",
              "      background-color: #434B5C;\n",
              "      box-shadow: 0px 1px 3px 1px rgba(0, 0, 0, 0.15);\n",
              "      filter: drop-shadow(0px 1px 2px rgba(0, 0, 0, 0.3));\n",
              "      fill: #FFFFFF;\n",
              "    }\n",
              "  </style>\n",
              "\n",
              "      <script>\n",
              "        const buttonEl =\n",
              "          document.querySelector('#df-3605c9ac-4930-47c6-ae18-bb4ad072fb3a button.colab-df-convert');\n",
              "        buttonEl.style.display =\n",
              "          google.colab.kernel.accessAllowed ? 'block' : 'none';\n",
              "\n",
              "        async function convertToInteractive(key) {\n",
              "          const element = document.querySelector('#df-3605c9ac-4930-47c6-ae18-bb4ad072fb3a');\n",
              "          const dataTable =\n",
              "            await google.colab.kernel.invokeFunction('convertToInteractive',\n",
              "                                                     [key], {});\n",
              "          if (!dataTable) return;\n",
              "\n",
              "          const docLinkHtml = 'Like what you see? Visit the ' +\n",
              "            '<a target=\"_blank\" href=https://colab.research.google.com/notebooks/data_table.ipynb>data table notebook</a>'\n",
              "            + ' to learn more about interactive tables.';\n",
              "          element.innerHTML = '';\n",
              "          dataTable['output_type'] = 'display_data';\n",
              "          await google.colab.output.renderOutput(dataTable, element);\n",
              "          const docLink = document.createElement('div');\n",
              "          docLink.innerHTML = docLinkHtml;\n",
              "          element.appendChild(docLink);\n",
              "        }\n",
              "      </script>\n",
              "    </div>\n",
              "  </div>\n",
              "  "
            ]
          },
          "metadata": {},
          "execution_count": 11
        }
      ]
    },
    {
      "cell_type": "markdown",
      "source": [
        "7.Dependent and independent variables\n",
        "\n",
        "A.Splitting independent variables"
      ],
      "metadata": {
        "id": "kebSpylnTrVB"
      }
    },
    {
      "cell_type": "code",
      "source": [
        "X = df.iloc[:, :-3].values\n",
        "print(X)"
      ],
      "metadata": {
        "id": "UOJT19bpTufx",
        "colab": {
          "base_uri": "https://localhost:8080/"
        },
        "outputId": "7efccc98-aded-4f2b-aa0f-476e33d2281f"
      },
      "execution_count": null,
      "outputs": [
        {
          "output_type": "stream",
          "name": "stdout",
          "text": [
            "[[1 15634602 'Hargrave' ... 0.0 1 1]\n",
            " [2 15647311 'Hill' ... 83807.86 1 0]\n",
            " [3 15619304 'Onio' ... 159660.8 3 1]\n",
            " ...\n",
            " [9998 15584532 'Liu' ... 0.0 1 0]\n",
            " [9999 15682355 'Sabbatini' ... 75075.31 2 1]\n",
            " [10000 15628319 'Walker' ... 130142.79 1 1]]\n"
          ]
        }
      ]
    },
    {
      "cell_type": "markdown",
      "source": [
        "B.Splitting dependent variables"
      ],
      "metadata": {
        "id": "hFp-EwO4Txfy"
      }
    },
    {
      "cell_type": "code",
      "source": [
        "Y = df.iloc[:, -3].values\n",
        "print(Y)"
      ],
      "metadata": {
        "id": "of4682PvTyDU",
        "colab": {
          "base_uri": "https://localhost:8080/"
        },
        "outputId": "98abf9dd-eeff-4599-b57a-2e491890058e"
      },
      "execution_count": null,
      "outputs": [
        {
          "output_type": "stream",
          "name": "stdout",
          "text": [
            "[1 1 0 ... 1 0 0]\n"
          ]
        }
      ]
    },
    {
      "cell_type": "markdown",
      "source": [
        "8.Scale the variables"
      ],
      "metadata": {
        "id": "L_0kgxk_T15a"
      }
    },
    {
      "cell_type": "code",
      "source": [
        "from sklearn.preprocessing import MinMaxScaler\n",
        "min_max_scaler = MinMaxScaler()\n",
        "print(pd)"
      ],
      "metadata": {
        "id": "VMujBqL4T2pA",
        "colab": {
          "base_uri": "https://localhost:8080/"
        },
        "outputId": "41938455-f668-4426-9e2a-008608d0ab63"
      },
      "execution_count": null,
      "outputs": [
        {
          "output_type": "stream",
          "name": "stdout",
          "text": [
            "<module 'pandas' from '/usr/local/lib/python3.7/dist-packages/pandas/__init__.py'>\n"
          ]
        }
      ]
    },
    {
      "cell_type": "code",
      "source": [
        "df[[\"CreditScore\", \"Age\"]] = min_max_scaler.fit_transform(df[[\"CreditScore\", \"Age\"]])\n",
        "print(df)"
      ],
      "metadata": {
        "id": "6b9G_wMgT6ro",
        "colab": {
          "base_uri": "https://localhost:8080/"
        },
        "outputId": "0f039431-b910-49ce-aa01-b708d62588d8"
      },
      "execution_count": null,
      "outputs": [
        {
          "output_type": "stream",
          "name": "stdout",
          "text": [
            "      RowNumber  CustomerId    Surname  CreditScore Geography  Gender  \\\n",
            "0             1    15634602   Hargrave        0.538    France  Female   \n",
            "1             2    15647311       Hill        0.516     Spain  Female   \n",
            "2             3    15619304       Onio        0.304    France  Female   \n",
            "3             4    15701354       Boni        0.698    France  Female   \n",
            "4             5    15737888   Mitchell        1.000     Spain  Female   \n",
            "...         ...         ...        ...          ...       ...     ...   \n",
            "9995       9996    15606229   Obijiaku        0.842    France    Male   \n",
            "9996       9997    15569892  Johnstone        0.332    France    Male   \n",
            "9997       9998    15584532        Liu        0.718    France  Female   \n",
            "9998       9999    15682355  Sabbatini        0.844   Germany    Male   \n",
            "9999      10000    15628319     Walker        0.884    France  Female   \n",
            "\n",
            "           Age  Tenure    Balance  NumOfProducts  HasCrCard  IsActiveMember  \\\n",
            "0     0.324324     2.0       0.00              1          1               1   \n",
            "1     0.310811     1.0   83807.86              1          0               1   \n",
            "2     0.324324     5.0  159660.80              3          1               0   \n",
            "3     0.283784     1.0       0.00              2          0               0   \n",
            "4     0.337838     2.0  125510.82              1          1               1   \n",
            "...        ...     ...        ...            ...        ...             ...   \n",
            "9995  0.283784     5.0       0.00              2          1               0   \n",
            "9996  0.229730     5.0   57369.61              1          1               1   \n",
            "9997  0.243243     5.0       0.00              1          0               1   \n",
            "9998  0.324324     3.0   75075.31              2          1               0   \n",
            "9999  0.135135     4.0  130142.79              1          1               0   \n",
            "\n",
            "      EstimatedSalary  Exited  \n",
            "0           101348.88       1  \n",
            "1           112542.58       0  \n",
            "2           113931.57       1  \n",
            "3            93826.63       0  \n",
            "4            79084.10       0  \n",
            "...               ...     ...  \n",
            "9995         96270.64       0  \n",
            "9996        101699.77       0  \n",
            "9997         42085.58       1  \n",
            "9998         92888.52       1  \n",
            "9999         38190.78       0  \n",
            "\n",
            "[10000 rows x 14 columns]\n"
          ]
        }
      ]
    },
    {
      "cell_type": "markdown",
      "source": [
        "9.Split the data into training and testing"
      ],
      "metadata": {
        "id": "-VpUNVywT93h"
      }
    },
    {
      "cell_type": "code",
      "source": [
        "training_data = df.sample(frac=0.4, random_state=20)\n",
        "testing_data = df.drop(training_data.index)\n",
        "print(training_data)"
      ],
      "metadata": {
        "id": "dGS1o_dnT-mT",
        "colab": {
          "base_uri": "https://localhost:8080/"
        },
        "outputId": "41e693fd-59d9-45e2-a45d-3058d1fe7977"
      },
      "execution_count": null,
      "outputs": [
        {
          "output_type": "stream",
          "name": "stdout",
          "text": [
            "      RowNumber  CustomerId    Surname  CreditScore Geography  Gender  \\\n",
            "9957       9958    15672237     Oluchi        0.566    France    Male   \n",
            "1687       1688    15589348   Le Grand        1.000     Spain    Male   \n",
            "2116       2117    15671609  Ibeabuchi        0.702    France    Male   \n",
            "231         232    15627000    Freeman        0.520    France    Male   \n",
            "2780       2781    15790235      Hsing        0.856     Spain    Male   \n",
            "...         ...         ...        ...          ...       ...     ...   \n",
            "8792       8793    15766137       Muir        0.294    France    Male   \n",
            "2316       2317    15624388  Henderson        0.598   Germany  Female   \n",
            "7001       7002    15662854      Manna        0.662   Germany    Male   \n",
            "6072       6073    15803908         Fu        0.556    France    Male   \n",
            "2408       2409    15754112   Musgrove        0.606     Spain    Male   \n",
            "\n",
            "           Age  Tenure    Balance  NumOfProducts  HasCrCard  IsActiveMember  \\\n",
            "9957  0.094595     1.0       0.00              1          1               0   \n",
            "1687  0.256757     4.0  137204.77              1          1               1   \n",
            "2116  0.351351     5.0       0.00              2          1               0   \n",
            "231   0.297297     0.0       0.00              2          1               0   \n",
            "2780  0.297297     5.0  104291.41              2          1               1   \n",
            "...        ...     ...        ...            ...        ...             ...   \n",
            "8792  0.216216     2.0       0.00              2          1               1   \n",
            "2316  0.432432     5.0  155393.32              1          1               1   \n",
            "7001  0.405405     5.0  139714.40              2          0               0   \n",
            "6072  0.364865     5.0       0.00              2          1               1   \n",
            "2408  0.500000     5.0       0.00              2          1               1   \n",
            "\n",
            "      EstimatedSalary  Exited  \n",
            "9957        100598.98       0  \n",
            "1687         28865.59       0  \n",
            "2116         23425.78       0  \n",
            "231          62232.60       0  \n",
            "2780        117507.11       0  \n",
            "...               ...     ...  \n",
            "8792         83087.13       0  \n",
            "2316         87351.42       1  \n",
            "7001         73066.72       0  \n",
            "6072         96862.56       0  \n",
            "2408         41967.03       0  \n",
            "\n",
            "[4000 rows x 14 columns]\n"
          ]
        }
      ]
    },
    {
      "cell_type": "code",
      "source": [
        "print(testing_data)"
      ],
      "metadata": {
        "id": "cp2A4WxnUCxO",
        "colab": {
          "base_uri": "https://localhost:8080/"
        },
        "outputId": "330c1686-c4da-4d4a-e110-f1769bde5021"
      },
      "execution_count": null,
      "outputs": [
        {
          "output_type": "stream",
          "name": "stdout",
          "text": [
            "      RowNumber  CustomerId    Surname  CreditScore Geography  Gender  \\\n",
            "1             2    15647311       Hill        0.516     Spain  Female   \n",
            "2             3    15619304       Onio        0.304    France  Female   \n",
            "4             5    15737888   Mitchell        1.000     Spain  Female   \n",
            "5             6    15574012        Chu        0.590     Spain    Male   \n",
            "7             8    15656148     Obinna        0.052   Germany  Female   \n",
            "...         ...         ...        ...          ...       ...     ...   \n",
            "9993       9994    15569266     Rahman        0.588    France    Male   \n",
            "9995       9996    15606229   Obijiaku        0.842    France    Male   \n",
            "9996       9997    15569892  Johnstone        0.332    France    Male   \n",
            "9997       9998    15584532        Liu        0.718    France  Female   \n",
            "9999      10000    15628319     Walker        0.884    France  Female   \n",
            "\n",
            "           Age  Tenure    Balance  NumOfProducts  HasCrCard  IsActiveMember  \\\n",
            "1     0.310811     1.0   83807.86              1          0               1   \n",
            "2     0.324324     5.0  159660.80              3          1               0   \n",
            "4     0.337838     2.0  125510.82              1          1               1   \n",
            "5     0.351351     5.0  113755.78              2          1               0   \n",
            "7     0.148649     4.0  115046.74              4          1               0   \n",
            "...        ...     ...        ...            ...        ...             ...   \n",
            "9993  0.135135     5.0  155060.41              1          1               0   \n",
            "9995  0.283784     5.0       0.00              2          1               0   \n",
            "9996  0.229730     5.0   57369.61              1          1               1   \n",
            "9997  0.243243     5.0       0.00              1          0               1   \n",
            "9999  0.135135     4.0  130142.79              1          1               0   \n",
            "\n",
            "      EstimatedSalary  Exited  \n",
            "1           112542.58       0  \n",
            "2           113931.57       1  \n",
            "4            79084.10       0  \n",
            "5           149756.71       1  \n",
            "7           119346.88       1  \n",
            "...               ...     ...  \n",
            "9993         29179.52       0  \n",
            "9995         96270.64       0  \n",
            "9996        101699.77       0  \n",
            "9997         42085.58       1  \n",
            "9999         38190.78       0  \n",
            "\n",
            "[6000 rows x 14 columns]\n"
          ]
        }
      ]
    }
  ]
}