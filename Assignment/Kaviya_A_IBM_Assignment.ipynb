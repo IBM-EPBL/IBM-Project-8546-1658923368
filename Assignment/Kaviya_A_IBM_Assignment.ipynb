{
  "nbformat": 4,
  "nbformat_minor": 0,
  "metadata": {
    "colab": {
      "provenance": [],
      "authorship_tag": "ABX9TyM+f++ga9jrEvjYJzdUIcyc",
      "include_colab_link": true
    },
    "kernelspec": {
      "name": "python3",
      "display_name": "Python 3"
    },
    "language_info": {
      "name": "python"
    }
  },
  "cells": [
    {
      "cell_type": "markdown",
      "metadata": {
        "id": "view-in-github",
        "colab_type": "text"
      },
      "source": [
        "<a href=\"https://colab.research.google.com/github/IBM-EPBL/IBM-Project-8546-1658923368/blob/main/Assignment/Kaviya_A_IBM_Assignment.ipynb\" target=\"_parent\"><img src=\"https://colab.research.google.com/assets/colab-badge.svg\" alt=\"Open In Colab\"/></a>"
      ]
    },
    {
      "cell_type": "markdown",
      "source": [
        "print\n"
      ],
      "metadata": {
        "id": "uYzuxF-U-ZnH"
      }
    },
    {
      "cell_type": "code",
      "source": [
        "print ('Hello Python')  \n"
      ],
      "metadata": {
        "colab": {
          "base_uri": "https://localhost:8080/"
        },
        "id": "zptK45Hs-eKW",
        "outputId": "782b5acc-6503-4fb6-a43d-0492e1c34846"
      },
      "execution_count": 1,
      "outputs": [
        {
          "output_type": "stream",
          "name": "stdout",
          "text": [
            "Hello Python\n"
          ]
        }
      ]
    },
    {
      "cell_type": "markdown",
      "source": [
        "input from user\n"
      ],
      "metadata": {
        "id": "zEsSm003AQGz"
      }
    },
    {
      "cell_type": "code",
      "source": [
        "a  = int(input(\"Enter first number: \"))  \n",
        "b = int(input(\"Enter second number: \"))  \n",
        "  \n",
        "print(a+b)  "
      ],
      "metadata": {
        "colab": {
          "base_uri": "https://localhost:8080/"
        },
        "id": "a-nhZq-VASxn",
        "outputId": "79465998-bff0-43ae-ef90-228b16e88524"
      },
      "execution_count": 2,
      "outputs": [
        {
          "output_type": "stream",
          "name": "stdout",
          "text": [
            "Enter first number: 5\n",
            "Enter second number: 6\n",
            "11\n"
          ]
        }
      ]
    },
    {
      "cell_type": "markdown",
      "source": [
        "tuple\n"
      ],
      "metadata": {
        "id": "9U_olCxSA9dG"
      }
    },
    {
      "cell_type": "code",
      "source": [
        "tup = (\"Apple\", \"Mango\" , \"Orange\" , \"Banana\")  \n",
        "print(type(tup))  \n",
        "print(tup)"
      ],
      "metadata": {
        "colab": {
          "base_uri": "https://localhost:8080/"
        },
        "id": "f8RIctW9BEr0",
        "outputId": "17db1a4b-4a77-4bcd-accc-4b82e8e1c39c"
      },
      "execution_count": 3,
      "outputs": [
        {
          "output_type": "stream",
          "name": "stdout",
          "text": [
            "<class 'tuple'>\n",
            "('Apple', 'Mango', 'Orange', 'Banana')\n"
          ]
        }
      ]
    },
    {
      "cell_type": "markdown",
      "source": [
        "list\n"
      ],
      "metadata": {
        "id": "ZR-XvfC5BM25"
      }
    },
    {
      "cell_type": "code",
      "source": [
        "L1 = [\"John\", 102, \"USA\"]      \n",
        "L2 = [1, 2, 3, 4, 5, 6]  "
      ],
      "metadata": {
        "id": "Vu2pz2QcBXSK"
      },
      "execution_count": 4,
      "outputs": []
    },
    {
      "cell_type": "markdown",
      "source": [
        "string\n"
      ],
      "metadata": {
        "id": "cRJpAhWGBe6W"
      }
    },
    {
      "cell_type": "code",
      "source": [
        "str1 = \"Hi Python\"  \n",
        "print(str1)  \n",
        "str1 = 'Hi Python'  \n",
        "print(str1)    "
      ],
      "metadata": {
        "colab": {
          "base_uri": "https://localhost:8080/"
        },
        "id": "QBA77_E8BkAW",
        "outputId": "1e0b7450-5eeb-42fa-e6ac-2ff924f4d715"
      },
      "execution_count": 15,
      "outputs": [
        {
          "output_type": "stream",
          "name": "stdout",
          "text": [
            "Hi Python\n",
            "Hi Python\n"
          ]
        }
      ]
    },
    {
      "cell_type": "markdown",
      "source": [
        "slicing"
      ],
      "metadata": {
        "id": "LieWweNXJ8-F"
      }
    },
    {
      "cell_type": "code",
      "source": [
        "S = 'ABCDEFGHI'\n",
        "print(S[2:7])\t"
      ],
      "metadata": {
        "id": "UEZs5WxhJ-_v",
        "outputId": "1f5c26ea-5b93-45c8-fffa-790a4dc13920",
        "colab": {
          "base_uri": "https://localhost:8080/"
        }
      },
      "execution_count": 23,
      "outputs": [
        {
          "output_type": "stream",
          "name": "stdout",
          "text": [
            "CDEFG\n"
          ]
        }
      ]
    },
    {
      "cell_type": "code",
      "source": [
        "S = 'ABCDEFGHI'\n",
        "print(S[-7:-2])\t"
      ],
      "metadata": {
        "id": "Dhv1shzcLMY9",
        "outputId": "029d028c-b983-4497-efdd-6957bb58d672",
        "colab": {
          "base_uri": "https://localhost:8080/"
        }
      },
      "execution_count": 24,
      "outputs": [
        {
          "output_type": "stream",
          "name": "stdout",
          "text": [
            "CDEFG\n"
          ]
        }
      ]
    },
    {
      "cell_type": "code",
      "source": [
        "S = 'ABCDEFGHI'\n",
        "print(S[:3])   "
      ],
      "metadata": {
        "id": "PhTmt8mFLmJb",
        "outputId": "72085907-fb60-44b3-efb0-91ec13965bb4",
        "colab": {
          "base_uri": "https://localhost:8080/"
        }
      },
      "execution_count": 25,
      "outputs": [
        {
          "output_type": "stream",
          "name": "stdout",
          "text": [
            "ABC\n"
          ]
        }
      ]
    },
    {
      "cell_type": "code",
      "source": [
        "S = 'ABCDEFGHI'\n",
        "print(S[6:])    "
      ],
      "metadata": {
        "id": "V74jo0ewLr00",
        "outputId": "213e411b-c951-4440-d7ce-d8bc9354890b",
        "colab": {
          "base_uri": "https://localhost:8080/"
        }
      },
      "execution_count": 26,
      "outputs": [
        {
          "output_type": "stream",
          "name": "stdout",
          "text": [
            "GHI\n"
          ]
        }
      ]
    },
    {
      "cell_type": "code",
      "source": [
        "S = 'ABCDEF'\n",
        "print(S[::-1]) "
      ],
      "metadata": {
        "id": "_YVo0Q6AL1U0",
        "outputId": "cc56d2af-eabc-449f-dcf3-81ccabe7b43d",
        "colab": {
          "base_uri": "https://localhost:8080/"
        }
      },
      "execution_count": 27,
      "outputs": [
        {
          "output_type": "stream",
          "name": "stdout",
          "text": [
            "FEDCBA\n"
          ]
        }
      ]
    },
    {
      "cell_type": "markdown",
      "source": [
        "sets\n"
      ],
      "metadata": {
        "id": "TSuaTqArBwxE"
      }
    },
    {
      "cell_type": "code",
      "source": [
        "  Month = {\"January\", \"February\", \"March\", \"April\", \"May\"}  \n",
        "print(Month)  \n",
        "print(type(Month))"
      ],
      "metadata": {
        "colab": {
          "base_uri": "https://localhost:8080/"
        },
        "id": "gmiyCWn1B4BC",
        "outputId": "d1ed4209-2d60-49bb-bee0-31e45db1a424"
      },
      "execution_count": 16,
      "outputs": [
        {
          "output_type": "stream",
          "name": "stdout",
          "text": [
            "{'January', 'February', 'May', 'March', 'April'}\n",
            "<class 'set'>\n"
          ]
        }
      ]
    },
    {
      "cell_type": "markdown",
      "source": [],
      "metadata": {
        "id": "tbAbd8qCCl3j"
      }
    },
    {
      "cell_type": "markdown",
      "source": [
        "if-else\n"
      ],
      "metadata": {
        "id": "GysaTNPTCXX8"
      }
    },
    {
      "cell_type": "code",
      "source": [
        "num1 = int(input(\"Enter the first number: \"))\n",
        "num2 = int(input(\"Enter the second number: \"))\n",
        "print(max(num1, num2), \"is greater\")"
      ],
      "metadata": {
        "colab": {
          "base_uri": "https://localhost:8080/"
        },
        "id": "Fuchz-olCZRy",
        "outputId": "eb0b7558-37d0-46bd-b17d-50c9e4d792eb"
      },
      "execution_count": 14,
      "outputs": [
        {
          "output_type": "stream",
          "name": "stdout",
          "text": [
            "Enter the first number: 5\n",
            "Enter the second number: 4\n",
            "5 is greater\n"
          ]
        }
      ]
    },
    {
      "cell_type": "markdown",
      "source": [
        "for loop\n"
      ],
      "metadata": {
        "id": "2FdQIgT3Cut3"
      }
    },
    {
      "cell_type": "code",
      "source": [
        "word=\"python\"\n",
        "for letter in word:\n",
        "\tprint (letter)"
      ],
      "metadata": {
        "colab": {
          "base_uri": "https://localhost:8080/"
        },
        "id": "JzKvqiDzDjyj",
        "outputId": "81488c78-33f5-4e53-eedc-d34748569dfe"
      },
      "execution_count": 22,
      "outputs": [
        {
          "output_type": "stream",
          "name": "stdout",
          "text": [
            "p\n",
            "y\n",
            "t\n",
            "h\n",
            "o\n",
            "n\n"
          ]
        }
      ]
    },
    {
      "cell_type": "markdown",
      "source": [
        "while loop\n"
      ],
      "metadata": {
        "id": "EcLx2uCPD08I"
      }
    },
    {
      "cell_type": "code",
      "source": [
        "i = 1\n",
        "while i < 3:\n",
        "  print(i)\n",
        "  i += 1"
      ],
      "metadata": {
        "colab": {
          "base_uri": "https://localhost:8080/"
        },
        "id": "ZxbO_u70GXCe",
        "outputId": "8cc9b5b0-1a65-4001-abcf-98ce388788e1"
      },
      "execution_count": 20,
      "outputs": [
        {
          "output_type": "stream",
          "name": "stdout",
          "text": [
            "1\n",
            "2\n",
            "1\n",
            "2\n"
          ]
        }
      ]
    },
    {
      "cell_type": "markdown",
      "source": [
        "boolean"
      ],
      "metadata": {
        "id": "k6re_6COHUcU"
      }
    },
    {
      "cell_type": "code",
      "source": [
        "print(10 > 9)\n",
        "print(10 == 9)\n",
        "print"
      ],
      "metadata": {
        "id": "BMBwhudDHXNJ",
        "outputId": "4ef72baa-816f-40c5-9e61-67bae229acba",
        "colab": {
          "base_uri": "https://localhost:8080/"
        }
      },
      "execution_count": 21,
      "outputs": [
        {
          "output_type": "stream",
          "name": "stdout",
          "text": [
            "True\n",
            "False\n"
          ]
        },
        {
          "output_type": "execute_result",
          "data": {
            "text/plain": [
              "<function print>"
            ]
          },
          "metadata": {},
          "execution_count": 21
        }
      ]
    }
  ]
}