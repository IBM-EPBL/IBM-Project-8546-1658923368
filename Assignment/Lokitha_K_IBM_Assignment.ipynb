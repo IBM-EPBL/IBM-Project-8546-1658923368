{
  "nbformat": 4,
  "nbformat_minor": 0,
  "metadata": {
    "colab": {
      "provenance": [],
      "authorship_tag": "ABX9TyMaZxcRyF/KhkPfS3+A50IP",
      "include_colab_link": true
    },
    "kernelspec": {
      "name": "python3",
      "display_name": "Python 3"
    },
    "language_info": {
      "name": "python"
    }
  },
  "cells": [
    {
      "cell_type": "markdown",
      "metadata": {
        "id": "view-in-github",
        "colab_type": "text"
      },
      "source": [
        "<a href=\"https://colab.research.google.com/github/IBM-EPBL/IBM-Project-8546-1658923368/blob/main/Assignment/Lokitha_K_IBM_Assignment.ipynb\" target=\"_parent\"><img src=\"https://colab.research.google.com/assets/colab-badge.svg\" alt=\"Open In Colab\"/></a>"
      ]
    },
    {
      "cell_type": "markdown",
      "source": [
        "**Variables and print statement**"
      ],
      "metadata": {
        "id": "MwvCVWGvCx9O"
      }
    },
    {
      "cell_type": "code",
      "execution_count": 1,
      "metadata": {
        "colab": {
          "base_uri": "https://localhost:8080/"
        },
        "id": "JQcVv8_FCaq5",
        "outputId": "fb3ae199-bc53-4ab4-af2f-e7924e49fc8d"
      },
      "outputs": [
        {
          "output_type": "stream",
          "name": "stdout",
          "text": [
            "15\n",
            "5\n"
          ]
        }
      ],
      "source": [
        "a=10 # a is variable\n",
        "b=5 # b is variable\n",
        "print(a+b)\n",
        "print(a-b)"
      ]
    },
    {
      "cell_type": "markdown",
      "source": [
        "**STRINGS and COMMANDS**\n"
      ],
      "metadata": {
        "id": "o-bR4XIpDhRw"
      }
    },
    {
      "cell_type": "code",
      "source": [
        "print('hi')\n",
        "print(\"Hello\")"
      ],
      "metadata": {
        "colab": {
          "base_uri": "https://localhost:8080/"
        },
        "id": "z0QPlf6qDVF-",
        "outputId": "361200ac-3e0a-4ac1-f2d0-cc53779b0e19"
      },
      "execution_count": 2,
      "outputs": [
        {
          "output_type": "stream",
          "name": "stdout",
          "text": [
            "hi\n",
            "Hello\n"
          ]
        }
      ]
    },
    {
      "cell_type": "markdown",
      "source": [
        "**Commands**"
      ],
      "metadata": {
        "id": "inPllg8xDxbX"
      }
    },
    {
      "cell_type": "code",
      "source": [
        "#single line command"
      ],
      "metadata": {
        "id": "F7NrLr31D5nk"
      },
      "execution_count": 3,
      "outputs": []
    },
    {
      "cell_type": "markdown",
      "source": [
        "**DATA TYPE**"
      ],
      "metadata": {
        "id": "0aWdxmy4EcVP"
      }
    },
    {
      "cell_type": "code",
      "source": [
        "name=\"lokitha\"\n",
        "print(type(name))\n",
        "c=23.4\n",
        "print(type(c))\n",
        "a=4+5j\n",
        "print(type(a))\n"
      ],
      "metadata": {
        "colab": {
          "base_uri": "https://localhost:8080/"
        },
        "id": "RIq2iendEb4g",
        "outputId": "04d90b7e-0cb7-4a8d-eeff-51e06564f5db"
      },
      "execution_count": 4,
      "outputs": [
        {
          "output_type": "stream",
          "name": "stdout",
          "text": [
            "<class 'str'>\n",
            "<class 'float'>\n",
            "<class 'complex'>\n"
          ]
        }
      ]
    },
    {
      "cell_type": "markdown",
      "source": [
        "**INPUT OPERATORS**\n"
      ],
      "metadata": {
        "id": "-ozqoGl2E0fb"
      }
    },
    {
      "cell_type": "code",
      "source": [
        "a=int(input(\"Enter a value:\"))\n",
        "b=int(input(\"Enter a value:\"))\n",
        "c=a+b\n",
        "print(c)"
      ],
      "metadata": {
        "colab": {
          "base_uri": "https://localhost:8080/"
        },
        "id": "axg6JyHEEzsP",
        "outputId": "f87d7127-ece3-4026-b01a-1b58c146ed8b"
      },
      "execution_count": 5,
      "outputs": [
        {
          "output_type": "stream",
          "name": "stdout",
          "text": [
            "Enter a value:4\n",
            "Enter a value:5\n",
            "9\n"
          ]
        }
      ]
    },
    {
      "cell_type": "markdown",
      "source": [
        "**TYPE CASTING**"
      ],
      "metadata": {
        "id": "ZGrXisGcFFg0"
      }
    },
    {
      "cell_type": "code",
      "source": [
        "print(int(5.0))\n",
        "print(float(5))\n",
        "print(str(7))"
      ],
      "metadata": {
        "colab": {
          "base_uri": "https://localhost:8080/"
        },
        "id": "IXK6eZ7gFFId",
        "outputId": "8f0af79d-4380-4cb1-8253-2c23388be69f"
      },
      "execution_count": 6,
      "outputs": [
        {
          "output_type": "stream",
          "name": "stdout",
          "text": [
            "5\n",
            "5.0\n",
            "7\n"
          ]
        }
      ]
    },
    {
      "cell_type": "markdown",
      "source": [
        "**DECISION MAKING :if,if-else,elif,nested if**\n",
        "\n",
        "Example for if-else"
      ],
      "metadata": {
        "id": "COT-6VCrFVaf"
      }
    },
    {
      "cell_type": "code",
      "source": [
        "a=int(input(\"Enter a value:\"))\n",
        "b=int(input(\"Enter a value:\"))\n",
        "if(a>b):\n",
        " print(\"a is greater\")\n",
        "else:\n",
        " print(\"b is greater\")"
      ],
      "metadata": {
        "id": "I56TVRhPFmL_",
        "colab": {
          "base_uri": "https://localhost:8080/"
        },
        "outputId": "23bd41fb-dee3-4d70-9c68-b15c5f8f9a2e"
      },
      "execution_count": 7,
      "outputs": [
        {
          "output_type": "stream",
          "name": "stdout",
          "text": [
            "Enter a value:4\n",
            "Enter a value:6\n",
            "b is greater\n"
          ]
        }
      ]
    },
    {
      "cell_type": "markdown",
      "source": [
        "**LOOPING**"
      ],
      "metadata": {
        "id": "zTMW_hFTGJYR"
      }
    },
    {
      "cell_type": "markdown",
      "source": [
        "For Loop"
      ],
      "metadata": {
        "id": "tghM2HH4GVcb"
      }
    },
    {
      "cell_type": "code",
      "source": [
        "n=int(input(\"Enter a value :\"))\n",
        "fact=1\n",
        "for i in range(n,0,-1):\n",
        " fact=fact*i\n",
        "print(\"The factorial of a is:\",fact)"
      ],
      "metadata": {
        "id": "zVFvpthVGRrY",
        "colab": {
          "base_uri": "https://localhost:8080/"
        },
        "outputId": "b31dfa1f-d838-41d4-d426-fe6f130a0236"
      },
      "execution_count": 8,
      "outputs": [
        {
          "output_type": "stream",
          "name": "stdout",
          "text": [
            "Enter a value :5\n",
            "The factorial of a is: 120\n"
          ]
        }
      ]
    },
    {
      "cell_type": "markdown",
      "source": [
        "WHILE LOOP\n"
      ],
      "metadata": {
        "id": "dFk49Zo0Gf31"
      }
    },
    {
      "cell_type": "code",
      "source": [
        "i=1\n",
        "fact=1\n",
        "while(i<5):\n",
        " fact=fact*i\n",
        " i=i+1\n",
        "print(\"The value is:\",fact)"
      ],
      "metadata": {
        "id": "TmJn38KXGJET",
        "colab": {
          "base_uri": "https://localhost:8080/"
        },
        "outputId": "741fabee-2f3c-4055-c2fc-dc38c76aa341"
      },
      "execution_count": 9,
      "outputs": [
        {
          "output_type": "stream",
          "name": "stdout",
          "text": [
            "The value is: 24\n"
          ]
        }
      ]
    },
    {
      "cell_type": "markdown",
      "source": [
        "**CONTINUE**"
      ],
      "metadata": {
        "id": "3P4eywhZIsZK"
      }
    },
    {
      "cell_type": "code",
      "source": [
        "for i in range(1,7,1):\n",
        " if(i==4):\n",
        "   continue\n",
        " print(i)\n",
        "else:\n",
        " print(\"I am in else\")\n",
        "print(\"main block\")\n"
      ],
      "metadata": {
        "id": "tgqh6-teIO9T",
        "colab": {
          "base_uri": "https://localhost:8080/"
        },
        "outputId": "2efb5926-b178-4283-d192-3e0d5c5a2af1"
      },
      "execution_count": 10,
      "outputs": [
        {
          "output_type": "stream",
          "name": "stdout",
          "text": [
            "1\n",
            "2\n",
            "3\n",
            "5\n",
            "6\n",
            "I am in else\n",
            "main block\n"
          ]
        }
      ]
    },
    {
      "cell_type": "markdown",
      "source": [
        "**BREAK**"
      ],
      "metadata": {
        "id": "t024NvL4I1Hv"
      }
    },
    {
      "cell_type": "code",
      "source": [
        "for i in range(1,7,1):\n",
        " if(i==4):\n",
        "   break\n",
        " print(i)\n",
        "else:\n",
        " print(\"I am in else\")\n",
        "print(\"main block\")\n"
      ],
      "metadata": {
        "id": "dhN5gmheI3Jk",
        "colab": {
          "base_uri": "https://localhost:8080/"
        },
        "outputId": "fa98a68b-18ce-4cb2-e18d-bf241f864df7"
      },
      "execution_count": 11,
      "outputs": [
        {
          "output_type": "stream",
          "name": "stdout",
          "text": [
            "1\n",
            "2\n",
            "3\n",
            "main block\n"
          ]
        }
      ]
    },
    {
      "cell_type": "markdown",
      "source": [
        "**PASS**"
      ],
      "metadata": {
        "id": "slqAmRUZI8DM"
      }
    },
    {
      "cell_type": "code",
      "source": [
        "for i in range(1,7,1):\n",
        " if(i==4):\n",
        "   pass\n",
        " print(i)\n",
        "else:\n",
        " print(\"I am in else\")\n",
        "print(\"main block\")"
      ],
      "metadata": {
        "id": "xPDIDk_WI93w",
        "colab": {
          "base_uri": "https://localhost:8080/"
        },
        "outputId": "33c1ea74-1c5c-45bc-f63e-b6c902575c9d"
      },
      "execution_count": 12,
      "outputs": [
        {
          "output_type": "stream",
          "name": "stdout",
          "text": [
            "1\n",
            "2\n",
            "3\n",
            "4\n",
            "5\n",
            "6\n",
            "I am in else\n",
            "main block\n"
          ]
        }
      ]
    },
    {
      "cell_type": "markdown",
      "source": [
        "\n",
        "\n",
        "**ESCAPING SEQUENCE**"
      ],
      "metadata": {
        "id": "UD8r9XsUJd7a"
      }
    },
    {
      "cell_type": "code",
      "source": [
        "# using triple quotes\n",
        "print('''He said, \"What's there?\"''')\n",
        "\n",
        "# escaping single quotes\n",
        "print('He said, \"What\\'s there?\"')\n",
        "\n",
        "# escaping double quotes\n",
        "print(\"He said, \\\"What's there?\\\"\")"
      ],
      "metadata": {
        "id": "v6oTYntbJiDG",
        "colab": {
          "base_uri": "https://localhost:8080/"
        },
        "outputId": "cb331f0c-5fda-443d-a36d-3f7d2f04d356"
      },
      "execution_count": 13,
      "outputs": [
        {
          "output_type": "stream",
          "name": "stdout",
          "text": [
            "He said, \"What's there?\"\n",
            "He said, \"What's there?\"\n",
            "He said, \"What's there?\"\n"
          ]
        }
      ]
    },
    {
      "cell_type": "markdown",
      "source": [
        "**IS UPPER**"
      ],
      "metadata": {
        "id": "0r4VQ2u3Jk_S"
      }
    },
    {
      "cell_type": "code",
      "source": [
        "a=\"THIS IS PYTHON\"\n",
        "b=a.isupper()\n",
        "print(b)"
      ],
      "metadata": {
        "id": "ylmiLAGkJ-rN",
        "colab": {
          "base_uri": "https://localhost:8080/"
        },
        "outputId": "01b7ecfa-4f2e-443f-9aa7-32266bf09d18"
      },
      "execution_count": 14,
      "outputs": [
        {
          "output_type": "stream",
          "name": "stdout",
          "text": [
            "True\n"
          ]
        }
      ]
    },
    {
      "cell_type": "markdown",
      "source": [
        "**IS LOWER**"
      ],
      "metadata": {
        "id": "BKKH4WzvKDGa"
      }
    },
    {
      "cell_type": "code",
      "source": [
        "a=\"This is python\"\n",
        "b=a.islower()\n",
        "print(b)"
      ],
      "metadata": {
        "id": "3i_FzSmtKFDv",
        "colab": {
          "base_uri": "https://localhost:8080/"
        },
        "outputId": "bd3ddb8f-96b8-4116-a6d8-63747bdfc989"
      },
      "execution_count": 15,
      "outputs": [
        {
          "output_type": "stream",
          "name": "stdout",
          "text": [
            "False\n"
          ]
        }
      ]
    },
    {
      "cell_type": "markdown",
      "source": [
        "**STRING SPLITTING**"
      ],
      "metadata": {
        "id": "nemBP7QNK1SQ"
      }
    },
    {
      "cell_type": "code",
      "source": [
        "a = \"Iamaprogrammer\"\n",
        "print(a[7])\n",
        "print(a[-1])\n",
        "print(a[5:8])\n",
        "print(a[0:6:3])\n",
        "print(a[2:])"
      ],
      "metadata": {
        "id": "3kLc6rKLK4Ul",
        "colab": {
          "base_uri": "https://localhost:8080/"
        },
        "outputId": "37f49d72-6f51-4c88-b69d-e4cbe4b3ea36"
      },
      "execution_count": 16,
      "outputs": [
        {
          "output_type": "stream",
          "name": "stdout",
          "text": [
            "g\n",
            "r\n",
            "rog\n",
            "Ia\n",
            "maprogrammer\n"
          ]
        }
      ]
    },
    {
      "cell_type": "markdown",
      "source": [
        "**REASSIGNING STRINGS**"
      ],
      "metadata": {
        "id": "J1RC6MghK-nH"
      }
    },
    {
      "cell_type": "code",
      "source": [
        "str = \"HELLO\"    \n",
        "print(str)    \n",
        "str = \"hello\"    \n",
        "print(str) \n"
      ],
      "metadata": {
        "id": "LLqacMEhK-Ut",
        "colab": {
          "base_uri": "https://localhost:8080/"
        },
        "outputId": "55b47dd0-ac71-4bf2-8421-68d085fa57ed"
      },
      "execution_count": 18,
      "outputs": [
        {
          "output_type": "stream",
          "name": "stdout",
          "text": [
            "HELLO\n",
            "hello\n"
          ]
        }
      ]
    }
  ]
}